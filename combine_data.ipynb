{
 "cells": [
  {
   "cell_type": "code",
   "execution_count": 1,
   "metadata": {},
   "outputs": [],
   "source": [
    "import os"
   ]
  },
  {
   "cell_type": "code",
   "execution_count": 2,
   "metadata": {},
   "outputs": [],
   "source": [
    "path = 'data/er_magellan'\n",
    "\n",
    "path_Dirty = ['Dirty/DBLP-ACM',\n",
    "'Dirty/DBLP-GoogleScholar',\n",
    "'Dirty/iTunes-Amazon',\n",
    "'Dirty/Walmart-Amazon'\n",
    "]\n",
    "\n",
    "path_Structured = [\n",
    "    'Structured/Amazon-Google',\n",
    "    'Structured/Beer',\n",
    "    'Structured/DBLP-ACM',\n",
    "    'Structured/DBLP-GoogleScholar',\n",
    "    'Structured/Fodors-Zagats',\n",
    "    'Structured/iTunes-Amazon',\n",
    "    'Structured/Walmart-Amazon'\n",
    "]\n",
    "\n",
    "path_Textual = [\n",
    "    'Textual/Abt-Buy'\n",
    "]\n",
    "\n",
    "path_mp = {'Dirty': path_Dirty, \n",
    "            'Structured': path_Structured, \n",
    "            'Textual': path_Textual}\n",
    "\n",
    "dirs = ['Dirty', 'Structured', 'Textual']\n"
   ]
  },
  {
   "cell_type": "code",
   "execution_count": 3,
   "metadata": {},
   "outputs": [],
   "source": [
    "def make_file(path_mp, dirs, op):\n",
    "    \n",
    "    if op not in ['train', 'test', 'valid']:\n",
    "        return False\n",
    "    else: \n",
    "        name = op+'.txt'\n",
    "        output_file = 'sum_'+ op + '.txt'\n",
    "        print(name)\n",
    "        \n",
    "    for dir in dirs:\n",
    "        dir_path = os.path.join('data/er_magellan', dir)\n",
    "        # 不存在该文件夹,创建文件夹 data/er_magellan/Dirty\n",
    "        if not os.path.exists(dir_path):\n",
    "            os.makedirs(dir_path)\n",
    "        \n",
    "        output_file = os.path.join(dir_path, 'sum_' + name)\n",
    "        print('output: ', output_file)\n",
    "        \n",
    "        with open(output_file, 'w') as out_file:\n",
    "        # 遍历\n",
    "            for dataset in path_mp[dir]:\n",
    "                # 打开当前输入文件，以读取模式\n",
    "                with open(os.path.join('data/er_magellan',dataset, name), 'r') as in_file:\n",
    "                    # 逐行读取当前输入文件内容\n",
    "                    for line in in_file:\n",
    "                        # 将每一行写入输出文件\n",
    "                        out_file.write(line)                \n",
    "    return True             "
   ]
  },
  {
   "cell_type": "code",
   "execution_count": 4,
   "metadata": {},
   "outputs": [
    {
     "name": "stdout",
     "output_type": "stream",
     "text": [
      "train.txt\n",
      "output:  data/er_magellan/Dirty/sum_train.txt\n",
      "output:  data/er_magellan/Structured/sum_train.txt\n",
      "output:  data/er_magellan/Textual/sum_train.txt\n",
      "test.txt\n",
      "output:  data/er_magellan/Dirty/sum_test.txt\n",
      "output:  data/er_magellan/Structured/sum_test.txt\n",
      "output:  data/er_magellan/Textual/sum_test.txt\n",
      "valid.txt\n",
      "output:  data/er_magellan/Dirty/sum_valid.txt\n",
      "output:  data/er_magellan/Structured/sum_valid.txt\n",
      "output:  data/er_magellan/Textual/sum_valid.txt\n"
     ]
    },
    {
     "data": {
      "text/plain": [
       "True"
      ]
     },
     "execution_count": 4,
     "metadata": {},
     "output_type": "execute_result"
    }
   ],
   "source": [
    "make_file(path_mp, dirs, 'train')\n",
    "make_file(path_mp, dirs, 'test')\n",
    "make_file(path_mp, dirs, 'valid')\n"
   ]
  },
  {
   "cell_type": "code",
   "execution_count": null,
   "metadata": {},
   "outputs": [],
   "source": [
    "dirs = ['Dirty', 'Structured', 'Textual']\n",
    "\n",
    "def make_file_sum(path_mp, dirs, op):\n",
    "    \n",
    "    if op not in ['train', 'test', 'valid']:\n",
    "        return False\n",
    "    else: \n",
    "        name = op+'.txt'\n",
    "        output_file = 'sum_'+ op + '.txt'\n",
    "        print(name)\n",
    "        \n",
    "    for dir in dirs:\n",
    "        dir_path = os.path.join('data/er_magellan', dir)\n",
    "        # 不存在该文件夹,创建文件夹 data/er_magellan/Dirty\n",
    "        if not os.path.exists(dir_path):\n",
    "            os.makedirs(dir_path)\n",
    "        \n",
    "        output_file = os.path.join('data/er_magellan', 'sum_' + name)\n",
    "        print('output: ', output_file)\n",
    "        \n",
    "        with open(output_file, 'w') as out_file:\n",
    "        # 遍历\n",
    "            for dataset in path_mp[dir]:\n",
    "                # 打开当前输入文件，以读取模式\n",
    "                with open(os.path.join('data/er_magellan',dataset, name), 'r') as in_file:\n",
    "                    # 逐行读取当前输入文件内容\n",
    "                    for line in in_file:\n",
    "                        # 将每一行写入输出文件\n",
    "                        out_file.write(line)                \n",
    "    return True             "
   ]
  },
  {
   "cell_type": "code",
   "execution_count": 5,
   "metadata": {},
   "outputs": [],
   "source": [
    "dirs = ['Dirty', 'Structured', 'Textual']\n",
    "\n",
    "op = 'train'\n",
    "\n",
    "path = 'data/er_magellan'\n",
    "\n",
    "path_Dirty = ['Dirty/DBLP-ACM',\n",
    "'Dirty/DBLP-GoogleScholar',\n",
    "'Dirty/iTunes-Amazon',\n",
    "'Dirty/Walmart-Amazon'\n",
    "]\n",
    "\n",
    "path_Structured = [\n",
    "    'Structured/Amazon-Google',\n",
    "    'Structured/Beer',\n",
    "    'Structured/DBLP-ACM',\n",
    "    'Structured/DBLP-GoogleScholar',\n",
    "    'Structured/Fodors-Zagats',\n",
    "    'Structured/iTunes-Amazon',\n",
    "    'Structured/Walmart-Amazon'\n",
    "]\n",
    "\n",
    "path_Textual = [\n",
    "    'Textual/Abt-Buy'\n",
    "]\n",
    "\n",
    "path_mp = {'Dirty': path_Dirty, \n",
    "            'Structured': path_Structured, \n",
    "            'Textual': path_Textual}\n",
    "\n",
    "dirs = ['Dirty', 'Structured', 'Textual']\n"
   ]
  },
  {
   "cell_type": "code",
   "execution_count": 10,
   "metadata": {},
   "outputs": [
    {
     "name": "stdout",
     "output_type": "stream",
     "text": [
      "sum_train.txt total_train.txt\n"
     ]
    }
   ],
   "source": [
    "\n",
    "    # output_file = 'total_'+ op + '.txt'\n",
    "    # print(name, output_file)\n",
    "    \n"
   ]
  },
  {
   "cell_type": "code",
   "execution_count": 18,
   "metadata": {},
   "outputs": [],
   "source": [
    "\n",
    "def make_file_total(path_mp, dirs, op):\n",
    "    if op not in ['train', 'test', 'valid']:\n",
    "        pass\n",
    "    else: \n",
    "        name = 'sum_'+ op+'.txt' # 这里的'sum_'\n",
    "        \n",
    "    output_file = os.path.join('data/er_magellan', 'total_'+ op +'.txt')\n",
    "    # print('output: ', output_file)\n",
    "\n",
    "    with open(output_file,'w') as out_file:\n",
    "        for dir in dirs:\n",
    "            dir_path = os.path.join('data/er_magellan', dir)\n",
    "            # 不存在该文件夹,创建文件夹  dir_path = data/er_magellan/Dirty\n",
    "            if not os.path.exists(dir_path):\n",
    "                # print('error: ', dir_path , \"NOT EXIST\")\n",
    "                pass\n",
    "            else:\n",
    "                with open(os.path.join(dir_path, name), 'r') as in_file:\n",
    "                # print(os.path.join(dir_path, name))\n",
    "                # 逐行读取当前输入文件内容\n",
    "                    for line in in_file:\n",
    "                        # 将每一行写入输出文件\n",
    "                        out_file.write(line)\n"
   ]
  },
  {
   "cell_type": "code",
   "execution_count": 19,
   "metadata": {},
   "outputs": [],
   "source": [
    "make_file_total(path_mp, dirs, 'train')\n",
    "make_file_total(path_mp, dirs, 'test')\n",
    "make_file_total(path_mp, dirs, 'valid')"
   ]
  },
  {
   "cell_type": "code",
   "execution_count": null,
   "metadata": {},
   "outputs": [],
   "source": []
  }
 ],
 "metadata": {
  "kernelspec": {
   "display_name": "py38",
   "language": "python",
   "name": "python3"
  },
  "language_info": {
   "codemirror_mode": {
    "name": "ipython",
    "version": 3
   },
   "file_extension": ".py",
   "mimetype": "text/x-python",
   "name": "python",
   "nbconvert_exporter": "python",
   "pygments_lexer": "ipython3",
   "version": "3.7.12"
  }
 },
 "nbformat": 4,
 "nbformat_minor": 2
}
