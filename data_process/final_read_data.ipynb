{
 "cells": [
  {
   "cell_type": "markdown",
   "metadata": {},
   "source": [
    "matcher 最终得到的是一个 jsonl 文件\n",
    "\n",
    "包含match==0 & match==1\n",
    "\n",
    "使用dataframe进行筛选？\n",
    "\n",
    "处理一个jsonl文件,数据形如{\"left\": \"COL Beer_Name VAL 23rd Street Pumpkin Ale Bourbon Barrel Aged COL Brew_Factory_Name VAL 23rd Street Brewery COL Style VAL Specialty Grain COL ABV VAL - \", \"right\": \"COL Beer_Name VAL Red Dirt Imperial Red Ale COL Brew_Factory_Name VAL Wiley Roots Brewing Co COL Style VAL American Amber / Red Ale COL ABV VAL 8.20 % \", \"match\": 0, \"match_confidence\": 0.9991487421100096}\n",
    "具有left,right,match和match_confidence四个属性\n",
    "现在要求读取文件，筛选match==1的所有数据"
   ]
  },
  {
   "cell_type": "markdown",
   "metadata": {},
   "source": [
    "输入了table_a 和 table_b 目标是对于table_a的每一个条目，在table_b中查询是否有匹配的条目\n",
    "\n",
    "\n",
    "直出：\n",
    "【entity的处理方式？】\n",
    "entity_a entity_b match match_score\n",
    "\n",
    "同时输出 match.jsonl文件 + 输入的jsonl文件 * 2\n",
    "\n",
    "\n",
    "\n",
    "\n",
    "如果想查询细节，开启另一个网页：\n",
    "原始输入jsonl文件*2 + match.jsonl +\n",
    "\n",
    "\n",
    "查询：\n",
    "\n",
    "set(table_a_sub)\n",
    "\n",
    "for a in table_a_sub:\n",
    "    查询df[match==1]\n",
    "    \n",
    "    如果有：list\n",
    "    如果没有：None\n",
    "\n",
    "使用字典dict {left: matched_right(list)}\n",
    "\n",
    "对于每一个left，都输出匹配的right？"
   ]
  },
  {
   "cell_type": "code",
   "execution_count": 25,
   "metadata": {},
   "outputs": [],
   "source": [
    "infile_path = 'match_candidates.jsonl'\n",
    "\n",
    "outfile_path = 'output.jsonl'\n",
    "\n",
    "\n"
   ]
  },
  {
   "cell_type": "code",
   "execution_count": 28,
   "metadata": {},
   "outputs": [
    {
     "name": "stdout",
     "output_type": "stream",
     "text": [
      "[{'left': 'COL Beer_Name VAL Brew Kahuna NW Red Ale COL Brew_Factory_Name VAL Sky High Brewing COL Style VAL American Amber / Red Ale COL ABV VAL 5.20 % ', 'right': 'COL Beer_Name VAL Brew Kahuna NW Red Ale COL Brew_Factory_Name VAL Sky High Brewing COL Style VAL American Amber / Red Ale COL ABV VAL 5.20 % ', 'match': 1, 'match_confidence': 0.9982510994721072}]\n"
     ]
    }
   ],
   "source": [
    "import pandas as pd\n",
    "import jsonlines\n",
    "\n",
    "\n",
    "# 打开JSONL文件\n",
    "\n",
    "def filter_output(infile_path, outfile_path):\n",
    "    with jsonlines.open(infile_path) as reader:\n",
    "        # with open(outfile_path, 'w') as writer:\n",
    "        with jsonlines.open(outfile_path, 'w') as writer:\n",
    "            \n",
    "            \n",
    "            # 将数据读取到DataFrame\n",
    "            df = pd.DataFrame(reader)\n",
    "            filtered_df = df[df['match'] == 1]\n",
    "            filtered_dict = filtered_df.to_dict(orient='records')\n",
    "            \n",
    "            # for item in filtered_dict:\n",
    "            #     print(item)\n",
    "            #     json.dump(item, writer)\n",
    "            #     writer.write('\\n')\n",
    "            \n",
    "            for item in filtered_dict:\n",
    "                writer.write(item)\n",
    "\n",
    "\n"
   ]
  },
  {
   "cell_type": "markdown",
   "metadata": {},
   "source": []
  },
  {
   "cell_type": "markdown",
   "metadata": {},
   "source": [
    "jsonl table_a --> set\n",
    "jsonl table_b --> set\n",
    "\n",
    "jsonl pairs -->  使用字典dict {left: matched_right(list)}\n",
    "\n",
    "\n",
    "search \n",
    "\n",
    "all "
   ]
  },
  {
   "cell_type": "code",
   "execution_count": 30,
   "metadata": {},
   "outputs": [
    {
     "name": "stdout",
     "output_type": "stream",
     "text": [
      "                                        Beer_Name  \\\n",
      "0  VAL Outpost Mr. Grain Jeans Organic Amber Ale    \n",
      "1                VAL Upland Easy Chair Amber Ale    \n",
      "\n",
      "             Brew_Factory_Name           Style         ABV  \n",
      "0       VAL Lakefront Brewery   VAL Amber Ale   VAL 5.50 %  \n",
      "1  VAL Upland Brewing Company   VAL Amber Ale   VAL 5.60 %  \n"
     ]
    }
   ],
   "source": [
    "# str还原为df\n",
    "\n",
    "import pandas as pd\n",
    "\n",
    "# 示例的 \"left\" 和 \"right\" 内容\n",
    "left_content = \"COL Beer_Name VAL Outpost Mr. Grain Jeans Organic Amber Ale COL Brew_Factory_Name VAL Lakefront Brewery COL Style VAL Amber Ale COL ABV VAL 5.50 %\"\n",
    "right_content = \"COL Beer_Name VAL Upland Easy Chair Amber Ale COL Brew_Factory_Name VAL Upland Brewing Company COL Style VAL Amber Ale COL ABV VAL 5.60 %\"\n",
    "\n",
    "# 提取\"left\"内容中的列名和对应值\n",
    "left_data = dict(item.split(' ', 1) for item in left_content.split('COL ')[1:])\n",
    "right_data = dict(item.split(' ', 1) for item in right_content.split('COL ')[1:])\n",
    "\n",
    "# 创建DataFrame\n",
    "df = pd.DataFrame([left_data, right_data])\n",
    "\n",
    "# 输出DataFrame\n",
    "print(df)"
   ]
  },
  {
   "cell_type": "code",
   "execution_count": 44,
   "metadata": {},
   "outputs": [
    {
     "data": {
      "text/html": [
       "<div>\n",
       "<style scoped>\n",
       "    .dataframe tbody tr th:only-of-type {\n",
       "        vertical-align: middle;\n",
       "    }\n",
       "\n",
       "    .dataframe tbody tr th {\n",
       "        vertical-align: top;\n",
       "    }\n",
       "\n",
       "    .dataframe thead th {\n",
       "        text-align: right;\n",
       "    }\n",
       "</style>\n",
       "<table border=\"1\" class=\"dataframe\">\n",
       "  <thead>\n",
       "    <tr style=\"text-align: right;\">\n",
       "      <th></th>\n",
       "      <th>Beer_Name</th>\n",
       "      <th>Brew_Factory_Name</th>\n",
       "      <th>Style</th>\n",
       "      <th>ABV</th>\n",
       "    </tr>\n",
       "  </thead>\n",
       "  <tbody>\n",
       "    <tr>\n",
       "      <th>0</th>\n",
       "      <td></td>\n",
       "      <td>Upland Brewing Company</td>\n",
       "      <td>Amber Ale</td>\n",
       "      <td>5.60 %</td>\n",
       "    </tr>\n",
       "  </tbody>\n",
       "</table>\n",
       "</div>"
      ],
      "text/plain": [
       "  Beer_Name        Brew_Factory_Name       Style     ABV\n",
       "0            Upland Brewing Company   Amber Ale   5.60 %"
      ]
     },
     "execution_count": 44,
     "metadata": {},
     "output_type": "execute_result"
    }
   ],
   "source": [
    "content = \"COL Beer_Name VAL Outpost Mr. Grain Jeans Organic Amber Ale COL Brew_Factory_Name VAL Lakefront Brewery COL Style VAL Amber Ale COL ABV VAL 5.50 %\"\n",
    "content = \"COL Beer_Name VAL COL Brew_Factory_Name VAL Upland Brewing Company COL Style VAL Amber Ale COL ABV VAL 5.60 %\"\n",
    "contents = content.split('COL ')[1:] # 第一个为空\n",
    "# print(contents)\n",
    "\n",
    "content_dict = {}\n",
    "for item in contents:\n",
    "    col_name, value = item.split(' VAL ')\n",
    "    content_dict[col_name] = value\n",
    "    \n",
    "df = pd.DataFrame([content_dict])\n",
    "df"
   ]
  },
  {
   "cell_type": "code",
   "execution_count": null,
   "metadata": {},
   "outputs": [],
   "source": [
    "\n",
    "# 单一数据的处理\n",
    "def df_to_str(ent):\n",
    "    content = ''\n",
    "    for _, row in ent.iterrows():\n",
    "        for attr,val in zip(row.index, row.values):\n",
    "            content += 'COL %s VAL %s ' % (str(attr), str(val))\n",
    "    return content\n",
    "\n",
    "\n",
    "\n",
    "def dict_to_str(ent):\n",
    "    content = ''\n",
    "    for attr in ent.keys():\n",
    "        content += 'COL %s VAL %s ' % (str(attr), str(ent[attr]))\n",
    "    return content\n",
    "\n",
    "\n",
    "def str_to_df(ent):\n",
    "    content = ent.split('COL ')[1:] # 第一个为空\n",
    "    \n",
    "    content_dict = {}\n",
    "    for item in content:\n",
    "        col_name, value = item.split(' VAL ')\n",
    "        content_dict[col_name] = value\n",
    "    return pd.DataFrame([content_dict]) \n",
    "\n",
    "\n"
   ]
  },
  {
   "cell_type": "code",
   "execution_count": null,
   "metadata": {},
   "outputs": [],
   "source": []
  }
 ],
 "metadata": {
  "kernelspec": {
   "display_name": "new",
   "language": "python",
   "name": "python3"
  },
  "language_info": {
   "codemirror_mode": {
    "name": "ipython",
    "version": 3
   },
   "file_extension": ".py",
   "mimetype": "text/x-python",
   "name": "python",
   "nbconvert_exporter": "python",
   "pygments_lexer": "ipython3",
   "version": "3.8.0"
  }
 },
 "nbformat": 4,
 "nbformat_minor": 2
}
